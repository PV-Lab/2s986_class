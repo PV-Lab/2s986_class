{
 "cells": [
  {
   "cell_type": "markdown",
   "metadata": {},
   "source": [
    "\n",
    "# Classification of  hand-written digits using scikit-learn\n",
    "# PART 2: performance metrics\n",
    "\n",
    "An example showing how we can classify hand-written digits using scikit-learn. \n",
    "The example is adapted from \n",
    "\n",
    "https://scikit-learn.org/stable/auto_examples/classification/plot_digits_classification.html\n",
    "\n"
   ]
  },
  {
   "cell_type": "markdown",
   "metadata": {},
   "source": [
    "Import required python packages"
   ]
  },
  {
   "cell_type": "code",
   "execution_count": 1,
   "metadata": {},
   "outputs": [],
   "source": [
    "from sklearn import datasets, svm, metrics\n",
    "from sklearn.naive_bayes import MultinomialNB\n",
    "from sklearn.neighbors import KNeighborsClassifier\n",
    "from sklearn.linear_model import LogisticRegression \n",
    "from sklearn.ensemble import RandomForestClassifier,GradientBoostingClassifier \n",
    "from sklearn.svm import SVC \n",
    "from sklearn.neural_network import MLPClassifier\n",
    "import matplotlib.pyplot as plt\n",
    "from sklearn.model_selection import train_test_split\n",
    "import numpy as np\n",
    "import pandas as pd\n",
    "import seaborn as sns\n",
    "#set a random state\n",
    "np.random.seed(30)\n"
   ]
  },
  {
   "cell_type": "markdown",
   "metadata": {},
   "source": [
    "Load the dataset"
   ]
  },
  {
   "cell_type": "code",
   "execution_count": 2,
   "metadata": {},
   "outputs": [],
   "source": [
    "digits = datasets.load_digits()"
   ]
  },
  {
   "cell_type": "markdown",
   "metadata": {},
   "source": [
    "Print the dataset. The dataset consists of two main parts:\n",
    "1. digits.data is the input (flattened pixel values for each handwritten image)\n",
    "\n",
    "2. digits.target is the output (ground-truth labels)\n"
   ]
  },
  {
   "cell_type": "markdown",
   "metadata": {},
   "source": [
    "We can obtain the number of data points using .shape command "
   ]
  },
  {
   "cell_type": "code",
   "execution_count": 3,
   "metadata": {},
   "outputs": [
    {
     "data": {
      "text/plain": [
       "(1797, 64)"
      ]
     },
     "execution_count": 3,
     "metadata": {},
     "output_type": "execute_result"
    }
   ],
   "source": [
    "digits.data.shape"
   ]
  },
  {
   "cell_type": "markdown",
   "metadata": {},
   "source": [
    "plot the digits.data with associated labels"
   ]
  },
  {
   "cell_type": "code",
   "execution_count": 4,
   "metadata": {},
   "outputs": [
    {
     "data": {
      "image/png": "[encoded data removed]",
      "text/plain": [
       "<Figure size 432x288 with 8 Axes>"
      ]
     },
     "metadata": {
      "needs_background": "light"
     },
     "output_type": "display_data"
    }
   ],
   "source": [
    "fig = plt.figure()\n",
    "for index in range(8):\n",
    "    plt.subplot(2, 4, index+1)\n",
    "    plt.axis('off')\n",
    "    plt.imshow(digits.data[index+1,:].reshape(8,8),cmap=plt.cm.gray_r, interpolation='nearest')\n",
    "    plt.title('Training: %i' % digits.target[index+1])"
   ]
  },
  {
   "cell_type": "markdown",
   "metadata": {},
   "source": [
    "Pixel values will be the input (X) and labels will be the output (y)"
   ]
  },
  {
   "cell_type": "code",
   "execution_count": 5,
   "metadata": {},
   "outputs": [],
   "source": [
    "X = digits.data\n",
    "y= digits.target"
   ]
  },
  {
   "cell_type": "markdown",
   "metadata": {},
   "source": [
    "Split data into train and test subsets"
   ]
  },
  {
   "cell_type": "code",
   "execution_count": 6,
   "metadata": {},
   "outputs": [],
   "source": [
    "indx_selected = np.concatenate([np.where(y == 8),np.where(y == 9)], axis = 1)[0]\n",
    "X_train, X_test, y_train, y_test = train_test_split(X[indx_selected], y[indx_selected], test_size=0.5, shuffle=True)"
   ]
  },
  {
   "cell_type": "markdown",
   "metadata": {},
   "source": [
    "Import different classifiers"
   ]
  },
  {
   "cell_type": "code",
   "execution_count": 16,
   "metadata": {},
   "outputs": [],
   "source": [
    "# Multinomial Naive Bayes Classifier  \n",
    "def naive_bayes_classifier(train_x, train_y):   \n",
    "    model = MultinomialNB(alpha=0.01)  \n",
    "    model.fit(train_x, train_y)  \n",
    "    return model  \n",
    "  \n",
    "# KNN Classifier  \n",
    "def knn_classifier(train_x, train_y):   \n",
    "    model = KNeighborsClassifier(n_neighbors=3)\n",
    "    model.fit(train_x, train_y)  \n",
    "    return model  \n",
    "  \n",
    "# Logistic Regression Classifier  \n",
    "def logistic_regression_classifier(train_x, train_y):    \n",
    "    model = LogisticRegression(penalty='l2')  \n",
    "    model.fit(train_x, train_y)  \n",
    "    return model  \n",
    "  \n",
    "# Random Forest Classifier  \n",
    "def random_forest_classifier(train_x, train_y):    \n",
    "    model = RandomForestClassifier(n_estimators=3)  \n",
    "    model.fit(train_x, train_y)  \n",
    "    return model  \n",
    "  \n",
    "# GBDT(Gradient Boosting Decision Tree) Classifier  \n",
    "def gradient_boosting_classifier(train_x, train_y):   \n",
    "    model = GradientBoostingClassifier(n_estimators=200)  \n",
    "    model.fit(train_x, train_y)  \n",
    "    return model  \n",
    "  \n",
    "\n",
    "# SVM Classifier  \n",
    "def svm_classifier(train_x, train_y):    \n",
    "    model = SVC(kernel='rbf', probability=True)  \n",
    "    model.fit(train_x, train_y)  \n",
    "    return model  \n",
    "  \n",
    "#MLP Classifier\n",
    "def mlp_classifier(train_x,train_y):\n",
    "    model =  MLPClassifier(hidden_layer_sizes=(100,), max_iter=15, alpha=1e-4,\n",
    "                    solver='sgd', verbose=10, tol=1e-4, random_state=1,\n",
    "                    learning_rate_init=.1)\n",
    "    model.fit(train_x,train_y)\n",
    "    return model"
   ]
  },
  {
   "cell_type": "markdown",
   "metadata": {},
   "source": [
    "Choose a classifier:"
   ]
  },
  {
   "cell_type": "code",
   "execution_count": 17,
   "metadata": {},
   "outputs": [],
   "source": [
    "model = random_forest_classifier(X_train, y_train)"
   ]
  },
  {
   "cell_type": "markdown",
   "metadata": {},
   "source": [
    "Now predict the value of the digit of the test dataset"
   ]
  },
  {
   "cell_type": "code",
   "execution_count": 18,
   "metadata": {},
   "outputs": [],
   "source": [
    "predicted = model.predict(X_test)"
   ]
  },
  {
   "cell_type": "markdown",
   "metadata": {},
   "source": [
    "Compute the prediction accuracy"
   ]
  },
  {
   "cell_type": "code",
   "execution_count": 19,
   "metadata": {},
   "outputs": [
    {
     "name": "stdout",
     "output_type": "stream",
     "text": [
      "classification accuracy : 92.09%\n"
     ]
    }
   ],
   "source": [
    "accuracy = metrics.accuracy_score(y_test, predicted)  \n",
    "print ('classification accuracy : %.2f%%' % (100 * accuracy))"
   ]
  },
  {
   "cell_type": "markdown",
   "metadata": {},
   "source": [
    "plot test data with predicted labels"
   ]
  },
  {
   "cell_type": "code",
   "execution_count": 20,
   "metadata": {},
   "outputs": [
    {
     "data": {
      "image/png": "[encoded data removed]",
      "text/plain": [
       "<Figure size 432x288 with 12 Axes>"
      ]
     },
     "metadata": {
      "needs_background": "light"
     },
     "output_type": "display_data"
    }
   ],
   "source": [
    "fig = plt.figure()\n",
    "for index in range(12):\n",
    "    plt.subplot(3, 4, index+1)\n",
    "    plt.axis('off')\n",
    "    plt.imshow(X_test[index+1,:].reshape(8,8),cmap=plt.cm.gray_r, interpolation='nearest')\n",
    "    plt.title('Prediction: %i' % predicted[index+1], fontsize = 14)"
   ]
  },
  {
   "cell_type": "markdown",
   "metadata": {},
   "source": [
    "We want to know the classification accuracy for each number. We can use a for loop to do it\n",
    "\n",
    "Plot the prediction accuracy for each label (8 to 9)"
   ]
  },
  {
   "cell_type": "code",
   "execution_count": 115,
   "metadata": {},
   "outputs": [
    {
     "data": {
      "image/png": "[encoded data removed]",
      "text/plain": [
       "<Figure size 432x288 with 1 Axes>"
      ]
     },
     "metadata": {},
     "output_type": "display_data"
    }
   ],
   "source": [
    "#assign an empty list\n",
    "num_acc = []\n",
    "for i in np.arange(8,10,1):\n",
    "    #find the index of each number (0 to 9) in the label\n",
    "    idx = np.where(y_test == i)\n",
    "    num_acc.append(metrics.accuracy_score(y_test[idx], predicted[idx]))\n",
    "\n",
    "    \n",
    "sns.set(font_scale=1.5)\n",
    "sns.set_style(\"ticks\",{'xtick.direction': 'in', # set the style of the plot using seaborn\n",
    "                       'ytick.direction':'in',\n",
    "                       'xtick.top': False,'ytick.right': False})\n",
    "\n",
    "plt.bar(np.arange(8,10,1),num_acc, width = 0.4)\n",
    "plt.ylim(0.8,1.01)\n",
    "plt.xticks(np.arange(8,10,1))\n",
    "plt.xlabel ('label')\n",
    "plt.ylabel('prediction accuracy')\n",
    "plt.show()"
   ]
  },
  {
   "cell_type": "code",
   "execution_count": 180,
   "metadata": {},
   "outputs": [
    {
     "data": {
      "image/png": "[encoded data removed]",
      "text/plain": [
       "<Figure size 288x288 with 1 Axes>"
      ]
     },
     "metadata": {},
     "output_type": "display_data"
    }
   ],
   "source": [
    "from sklearn.metrics import (onfusion_matrix\n",
    "conf_matrix = pd.DataFrame(confusion_matrix(y_test, predicted), columns = np.arange(2)+8, index = np.arange(2)+8)\n",
    "\n",
    "df_len = len(conf_matrix)\n",
    "fs = 20\n",
    "\n",
    "fig, ax=plt.subplots(figsize=(df_len*2,df_len*2))\n",
    "sns.set(font_scale=1.5)\n",
    "sns.set_style(\"ticks\",{'xtick.direction': 'in', # set the style of the plot using seaborn\n",
    "                       'ytick.direction':'in',\n",
    "                       'xtick.top': False,'ytick.right': False})\n",
    "cmap = plt.get_cmap('coolwarm')\n",
    "sns.heatmap(conf_matrix, cbar_kws={\"shrink\": .2}, annot=True,\n",
    "            cmap=cmap, cbar=False, ax=ax, square=True)\n",
    "ax.set_xlim(0, df_len)\n",
    "ax.set_ylim(df_len, 0)\n",
    "ax.set_ylabel('Ground Truth',fontsize = fs)\n",
    "ax.set_xlabel('Prediction',fontsize = fs)\n",
    "ax.set_title(\"Confusion Matrix\", fontsize = 20)\n",
    "plt.xticks(rotation=0, fontsize = fs)\n",
    "plt.yticks(rotation=0, fontsize = fs) \n",
    "plt.show()"
   ]
  },
  {
   "cell_type": "code",
   "execution_count": 182,
   "metadata": {},
   "outputs": [
    {
     "data": {
      "image/png": "[encoded data removed]",
      "text/plain": [
       "<Figure size 432x288 with 2 Axes>"
      ]
     },
     "metadata": {},
     "output_type": "display_data"
    }
   ],
   "source": [
    "metrics.plot_confusion_matrix(model, X_test, y_test)\n",
    "plt.show()"
   ]
  },
  {
   "attachments": {},
   "cell_type": "markdown",
   "metadata": {},
   "source": [
    "#### Precision = TP/(TP+FP)\n",
    "\n",
    "In the case of Digit 8: 82/(82+6)\n",
    "\n",
    "#### Recall = TP/(TP+FN）\n",
    "\n",
    "In the case of Digit 8: 82/(82+8)"
   ]
  },
  {
   "cell_type": "code",
   "execution_count": 99,
   "metadata": {},
   "outputs": [
    {
     "data": {
      "image/png": "[encoded data removed]",
      "text/plain": [
       "<Figure size 432x360 with 1 Axes>"
      ]
     },
     "metadata": {},
     "output_type": "display_data"
    }
   ],
   "source": [
    "num_recall = []\n",
    "num_precision = []\n",
    "for i in np.arange(8,10,1):\n",
    "    #find the index of each number (8 to 9) in the label\n",
    "    idx = np.where(y_test == i)\n",
    "    num_precision.append(metrics.precision_score(y_test, predicted, pos_label = i))\n",
    "    num_recall.append(metrics.recall_score(y_test, predicted, pos_label = i))\n",
    "plt.subplots(figsize = (6,5))\n",
    "plt.bar(np.arange(8,10,1)-0.25,num_recall, width = 0.33, label = 'recall')\n",
    "plt.bar(np.arange(8,10,1)+0.25,num_precision, width = 0.33, label = 'precision')\n",
    "\n",
    "plt.xlabel ('label')\n",
    "plt.xticks(np.arange(8,10,1))\n",
    "plt.ylabel('precision/recall')\n",
    "plt.ylim(0.8,1.0)\n",
    "plt.yticks(np.arange(0.8, 1.01, 0.05))\n",
    "\n",
    "plt.legend()\n",
    "plt.show()"
   ]
  },
  {
   "cell_type": "markdown",
   "metadata": {},
   "source": [
    "### Imbalanced dataset\n",
    "\n",
    "Now we want to explore how an imbalanced dataset will impact on the classification accuracy. The previous dataset we have is pretty balanced. We can use a histogram to visualize the frequency for each label"
   ]
  },
  {
   "cell_type": "code",
   "execution_count": 100,
   "metadata": {},
   "outputs": [
    {
     "data": {
      "image/png": "[encoded data removed]",
      "text/plain": [
       "<Figure size 432x288 with 1 Axes>"
      ]
     },
     "metadata": {},
     "output_type": "display_data"
    }
   ],
   "source": [
    "plt.hist (y, rwidth = 0.8)\n",
    "plt.xlabel ('label')\n",
    "plt.ylabel('frequency')\n",
    "plt.show()"
   ]
  },
  {
   "cell_type": "code",
   "execution_count": 136,
   "metadata": {},
   "outputs": [],
   "source": [
    "#find the index of label 8 \n",
    "idx_1 = np.where(y==8)[0]\n",
    "y_imba = np.delete(y,idx_1[:140],None)\n",
    "X_imba = np.delete(X,idx_1[:140],0)"
   ]
  },
  {
   "cell_type": "code",
   "execution_count": 137,
   "metadata": {},
   "outputs": [
    {
     "data": {
      "text/plain": [
       "Text(0, 0.5, 'frequency')"
      ]
     },
     "execution_count": 137,
     "metadata": {},
     "output_type": "execute_result"
    },
    {
     "data": {
      "image/png": "[encoded data removed]",
      "text/plain": [
       "<Figure size 432x288 with 1 Axes>"
      ]
     },
     "metadata": {},
     "output_type": "display_data"
    }
   ],
   "source": [
    "plt.hist (y_imba, rwidth = 0.8)\n",
    "plt.xlabel ('label')\n",
    "plt.ylabel('frequency')"
   ]
  },
  {
   "cell_type": "code",
   "execution_count": 138,
   "metadata": {},
   "outputs": [],
   "source": [
    "indx_selected = np.concatenate([np.where(y_imba == 8),np.where(y_imba == 9)], axis = 1)[0]\n",
    "\n",
    "X_train_imba, X_test_imba, y_train_imba, y_test_imba = train_test_split(\n",
    "    X_imba[indx_selected], y_imba[indx_selected], test_size=0.5, shuffle=True)\n",
    "\n"
   ]
  },
  {
   "cell_type": "markdown",
   "metadata": {},
   "source": [
    "Choose a classifier:\n"
   ]
  },
  {
   "cell_type": "code",
   "execution_count": 139,
   "metadata": {},
   "outputs": [],
   "source": [
    "model_imba = random_forest_classifier(X_train_imba, y_train_imba)"
   ]
  },
  {
   "cell_type": "markdown",
   "metadata": {},
   "source": [
    "Now predict the value of the digit of the test dataset\n"
   ]
  },
  {
   "cell_type": "code",
   "execution_count": 140,
   "metadata": {},
   "outputs": [],
   "source": [
    "predicted_imba = model_imba.predict(X_test_imba)"
   ]
  },
  {
   "cell_type": "code",
   "execution_count": 141,
   "metadata": {},
   "outputs": [
    {
     "name": "stdout",
     "output_type": "stream",
     "text": [
      "classification accuracy of original datasset : 92.09%\n",
      "classification accuracy of imbalanced datasset : 90.65%\n"
     ]
    }
   ],
   "source": [
    "#compute the accuracy for all labels in the imbalanced dataset\n",
    "accuracy_imba = metrics.accuracy_score(y_test_imba, predicted_imba)\n",
    "\n",
    "accuracy = metrics.accuracy_score(y_test, predicted)  \n",
    "print ('classification accuracy of original datasset : %.2f%%' % (100 * accuracy))\n",
    "print ('classification accuracy of imbalanced datasset : %.2f%%' % (100 * accuracy_imba))"
   ]
  },
  {
   "cell_type": "code",
   "execution_count": 142,
   "metadata": {},
   "outputs": [],
   "source": [
    "num_acc_imba = []\n",
    "for i in np.arange(8,10,1):\n",
    "    #find the index of each number (8 to 9) in the label\n",
    "    idx = np.where(y_test_imba == i)\n",
    "    num_acc_imba.append(metrics.accuracy_score(y_test_imba[idx], predicted_imba[idx]))"
   ]
  },
  {
   "cell_type": "markdown",
   "metadata": {},
   "source": [
    "Plot the prediction accuracy for each label (8 to 9)"
   ]
  },
  {
   "cell_type": "code",
   "execution_count": 144,
   "metadata": {},
   "outputs": [
    {
     "data": {
      "text/plain": [
       "<matplotlib.legend.Legend at 0x1d3b7cfb3c8>"
      ]
     },
     "execution_count": 144,
     "metadata": {},
     "output_type": "execute_result"
    },
    {
     "data": {
      "image/png": "[encoded data removed]",
      "text/plain": [
       "<Figure size 432x288 with 1 Axes>"
      ]
     },
     "metadata": {},
     "output_type": "display_data"
    }
   ],
   "source": [
    "width = 0.33 # the width of the bars\n",
    "plt.bar(np.arange(8,10,1)-0.25,num_acc,width, label = 'original')\n",
    "plt.bar(np.arange(8,10,1)+0.25,num_acc_imba, width,label = 'imbalance')\n",
    "plt.ylim(0.5,1.01)\n",
    "plt.xticks(np.arange(8,10,1))\n",
    "plt.xlabel ('label')\n",
    "plt.ylabel('prediction accuracy')\n",
    "plt.legend()"
   ]
  },
  {
   "cell_type": "code",
   "execution_count": 183,
   "metadata": {},
   "outputs": [
    {
     "data": {
      "image/png": "[encoded data removed]",
      "text/plain": [
       "<Figure size 432x288 with 2 Axes>"
      ]
     },
     "metadata": {},
     "output_type": "display_data"
    }
   ],
   "source": [
    "metrics.plot_confusion_matrix(model_imba, X_test_imba, y_test_imba)\n",
    "plt.show()"
   ]
  },
  {
   "cell_type": "markdown",
   "metadata": {},
   "source": [
    "#### Precision = TP/(TP+FP)\n",
    "In the case of digit 8: 10/(10+6)\n",
    "\n",
    "#### Recall = TP/(TP+FN）\n",
    "In the case of digit 8: 10/(10+4)"
   ]
  },
  {
   "cell_type": "code",
   "execution_count": 146,
   "metadata": {},
   "outputs": [
    {
     "data": {
      "text/plain": [
       "<matplotlib.legend.Legend at 0x1d3b7d74a20>"
      ]
     },
     "execution_count": 146,
     "metadata": {},
     "output_type": "execute_result"
    },
    {
     "data": {
      "image/png": "[encoded data removed]",
      "text/plain": [
       "<Figure size 432x288 with 1 Axes>"
      ]
     },
     "metadata": {},
     "output_type": "display_data"
    }
   ],
   "source": [
    "num_recall_imba = []\n",
    "num_precision_imba = []\n",
    "for i in np.arange(8,10,1):\n",
    "    #find the index of each number (8 to 9) in the label\n",
    "    idx = np.where(y_test_imba == i)\n",
    "    num_recall_imba.append(metrics.recall_score(y_test_imba, predicted_imba, pos_label = i))\n",
    "    num_precision_imba.append(metrics.precision_score(y_test_imba, predicted_imba, pos_label = i))\n",
    "\n",
    "width = 0.33 # the width of the bars\n",
    "plt.bar(np.arange(8,10,1)-0.25,num_precision_imba,width, label = 'precision_imba')\n",
    "plt.bar(np.arange(8,10,1)+0.25,num_recall_imba, width,label = 'recall_imba')\n",
    "plt.ylim(0.2,1.01)\n",
    "plt.xticks(np.arange(8,10,1))\n",
    "plt.xlabel ('label')\n",
    "plt.ylabel('Precision / recall')\n",
    "plt.legend()"
   ]
  },
  {
   "cell_type": "markdown",
   "metadata": {},
   "source": [
    "### Overall Average Performance Metrics"
   ]
  },
  {
   "cell_type": "markdown",
   "metadata": {},
   "source": [
    "`'micro'`:\n",
    "Calculate metrics globally by counting the total true positives, false negatives and false positives.\n",
    "\n",
    "`'macro'`:\n",
    "Calculate metrics for each label, and find their unweighted mean. This does not take label imbalance into account.\n",
    "\n",
    "`'weighted'`:\n",
    "Calculate metrics for each label, and find their average weighted by support (the number of true instances for each label). This alters ‘macro’ to account for label imbalance; it can result in an F-score that is not between precision and recall."
   ]
  },
  {
   "cell_type": "markdown",
   "metadata": {},
   "source": [
    "#### balanced dataset"
   ]
  },
  {
   "cell_type": "code",
   "execution_count": 166,
   "metadata": {},
   "outputs": [
    {
     "name": "stdout",
     "output_type": "stream",
     "text": [
      "balanced dataset\n",
      "micro 0.92\n",
      "macro 0.92\n",
      "weighted 0.92\n"
     ]
    }
   ],
   "source": [
    "print('balanced dataset')\n",
    "print('micro', np.round(metrics.recall_score(y_test, predicted, average = 'micro'),2))\n",
    "print('macro',np.round(metrics.recall_score(y_test, predicted, average = 'macro'),2))\n",
    "print('weighted',np.round(metrics.recall_score(y_test, predicted, average = 'weighted'),2))"
   ]
  },
  {
   "cell_type": "code",
   "execution_count": 167,
   "metadata": {},
   "outputs": [
    {
     "name": "stdout",
     "output_type": "stream",
     "text": [
      "balanced dataset\n",
      "micro 0.92\n",
      "macro 0.92\n",
      "weighted 0.92\n"
     ]
    }
   ],
   "source": [
    "print('balanced dataset')\n",
    "print('micro', np.round(metrics.precision_score(y_test, predicted, average = 'micro'),2))\n",
    "print('macro',np.round(metrics.precision_score(y_test, predicted, average = 'macro'),2))\n",
    "print('weighted',np.round(metrics.precision_score(y_test, predicted, average = 'weighted'),2))"
   ]
  },
  {
   "cell_type": "code",
   "execution_count": 168,
   "metadata": {},
   "outputs": [
    {
     "name": "stdout",
     "output_type": "stream",
     "text": [
      "balanced dataset\n",
      "f1 micro 0.92\n",
      "f1 macro 0.92\n",
      "f1 weighted 0.92\n"
     ]
    }
   ],
   "source": [
    "print('balanced dataset')\n",
    "print('f1 micro', np.round(metrics.f1_score(y_test, predicted, average = 'micro'),2))\n",
    "print('f1 macro',np.round(metrics.f1_score(y_test, predicted, average = 'macro'),2))\n",
    "print('f1 weighted',np.round(metrics.f1_score(y_test, predicted, average = 'weighted'),2))"
   ]
  },
  {
   "cell_type": "markdown",
   "metadata": {},
   "source": [
    "#### imbalanced dataset"
   ]
  },
  {
   "cell_type": "code",
   "execution_count": 169,
   "metadata": {},
   "outputs": [
    {
     "name": "stdout",
     "output_type": "stream",
     "text": [
      "imbalanced dataset\n",
      "recall micro 0.91\n",
      "recall macro 0.82\n",
      "recall weighted 0.91\n"
     ]
    }
   ],
   "source": [
    "print('imbalanced dataset')\n",
    "print('recall micro', np.round(metrics.recall_score(y_test_imba, predicted_imba, average = 'micro'),2))\n",
    "print('recall macro', np.round(metrics.recall_score(y_test_imba, predicted_imba, average = 'macro'),2))\n",
    "print('recall weighted',np.round(metrics.recall_score(y_test_imba, predicted_imba, average = 'weighted'),2))"
   ]
  },
  {
   "cell_type": "code",
   "execution_count": 170,
   "metadata": {},
   "outputs": [
    {
     "name": "stdout",
     "output_type": "stream",
     "text": [
      "imbalanced dataset\n",
      "precision micro 0.91\n",
      "precision macro 0.79\n",
      "precision weighted 0.91\n"
     ]
    }
   ],
   "source": [
    "print('imbalanced dataset')\n",
    "print('precision micro', np.round(metrics.precision_score(y_test_imba, predicted_imba, average = 'micro'),2))\n",
    "print('precision macro',np.round(metrics.precision_score(y_test_imba, predicted_imba, average = 'macro'),2))\n",
    "print('precision weighted',np.round(metrics.precision_score(y_test_imba, predicted_imba, average = 'weighted'),2))"
   ]
  },
  {
   "cell_type": "code",
   "execution_count": 171,
   "metadata": {},
   "outputs": [
    {
     "name": "stdout",
     "output_type": "stream",
     "text": [
      "imbalanced dataset\n",
      "precision micro 0.91\n",
      "precision macro 0.81\n",
      "precision weighted 0.91\n"
     ]
    }
   ],
   "source": [
    "print('imbalanced dataset')\n",
    "print('precision micro', np.round(metrics.f1_score(y_test_imba, predicted_imba, average = 'micro'),2))\n",
    "print('precision macro',np.round(metrics.f1_score(y_test_imba, predicted_imba, average = 'macro'),2))\n",
    "print('precision weighted',np.round(metrics.f1_score(y_test_imba, predicted_imba, average = 'weighted'),2))"
   ]
  }
 ],
 "metadata": {
  "kernelspec": {
   "display_name": "Python 3",
   "language": "python",
   "name": "python3"
  },
  "language_info": {
   "codemirror_mode": {
    "name": "ipython",
    "version": 3
   },
   "file_extension": ".py",
   "mimetype": "text/x-python",
   "name": "python",
   "nbconvert_exporter": "python",
   "pygments_lexer": "ipython3",
   "version": "3.7.1"
  }
 },
 "nbformat": 4,
 "nbformat_minor": 1
}
