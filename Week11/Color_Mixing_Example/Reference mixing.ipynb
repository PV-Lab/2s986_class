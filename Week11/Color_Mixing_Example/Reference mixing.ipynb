{
 "cells": [
  {
   "cell_type": "code",
   "execution_count": 1,
   "metadata": {
    "scrolled": true
   },
   "outputs": [],
   "source": [
    "from paramiko import SSHClient\n",
    "from scp import SCPClient\n",
    "\n",
    "ssh = SSHClient()\n",
    "ssh.load_system_host_keys()\n",
    "OT2_IP = '169.254.74.32'\n",
    "ssh.connect(OT2_IP, ##IP addresss of OT-2\n",
    "            username='root', \n",
    "            key_filename = r'C:\\Users\\SMART\\ot2_ssh_key')\n",
    "            ## the authentication file location\n"
   ]
  },
  {
   "cell_type": "code",
   "execution_count": 2,
   "metadata": {},
   "outputs": [],
   "source": [
    "local_src  = \".\\\\data\\\\color_ref.csv\"#file path at local computer \n",
    "remote_des = \"/data/user_storage/color_test.csv\"#file path at remote Pi\n",
    "with SCPClient(ssh.get_transport()) as scp:\n",
    "    scp.put(local_src, remote_des)"
   ]
  },
  {
   "cell_type": "code",
   "execution_count": 3,
   "metadata": {},
   "outputs": [],
   "source": [
    "local_src  = \".\\\\color_mixing.py\"#file path at local computer \n",
    "remote_des = \"/data/color_mixing.py\"#file path at remote Pi\n",
    "with SCPClient(ssh.get_transport()) as scp:\n",
    "    scp.put(local_src, remote_des)"
   ]
  },
  {
   "cell_type": "code",
   "execution_count": 4,
   "metadata": {},
   "outputs": [
    {
     "name": "stdout",
     "output_type": "stream",
     "text": [
      "/data\n",
      "['colorA' 'colorB' 'colorC' 'DispensePos']\n",
      "[20]\n",
      "[50]\n",
      "[130]\n",
      "['C4']\n",
      "Picking up tip from B1 of Opentrons 96 Tip Rack 300 µL on 10\n",
      "Logs from this command:\n",
      "WARNING (util): Out of bounds move: X=(418.00000000000006 motor controller, 417.52637982768243 deck) too high for limit 418.0\n",
      "Aspirating 55.0 uL from C5 of Corning 96 Well Plate 360 µL Flat on 8 at 92.86 uL/sec\n",
      "Aspirating 20.0 uL from F8 of Opentrons 96 Tip Rack 300 µL on 9 at 46.43 uL/sec\n",
      "Air gap\n",
      "\tAspirating 10.0 uL from F8 of Opentrons 96 Tip Rack 300 µL on 9 at 92.86 uL/sec\n",
      "Dispensing 85.0 uL into C4 of Corning 96 Well Plate 360 µL Flat on 4 at 92.86 uL/sec\n",
      "Blowing out at C4 of Corning 96 Well Plate 360 µL Flat on 4\n",
      "Mixing 1 times with a volume of 300.0 ul\n",
      "\tAspirating 300.0 uL from C5 of Corning 96 Well Plate 360 µL Flat on 7 at 92.86 uL/sec\n",
      "\tDispensing 300.0 uL into C5 of Corning 96 Well Plate 360 µL Flat on 7 at 92.86 uL/sec\n",
      "Blowing out\n",
      "Dropping tip into B1 of Opentrons 96 Tip Rack 300 µL on 10\n",
      "Picking up tip from B2 of Opentrons 96 Tip Rack 300 µL on 10\n",
      "Aspirating 55.0 uL from C5 of Corning 96 Well Plate 360 µL Flat on 8 at 92.86 uL/sec\n",
      "Aspirating 50.0 uL from A2 of Opentrons 96 Tip Rack 300 µL on 6 at 46.43 uL/sec\n",
      "Air gap\n",
      "\tAspirating 10.0 uL from A2 of Opentrons 96 Tip Rack 300 µL on 6 at 92.86 uL/sec\n",
      "Dispensing 115.0 uL into C4 of Corning 96 Well Plate 360 µL Flat on 4 at 92.86 uL/sec\n",
      "Blowing out at C4 of Corning 96 Well Plate 360 µL Flat on 4\n",
      "Mixing 1 times with a volume of 300.0 ul\n",
      "\tAspirating 300.0 uL from C5 of Corning 96 Well Plate 360 µL Flat on 7 at 92.86 uL/sec\n",
      "\tDispensing 300.0 uL into C5 of Corning 96 Well Plate 360 µL Flat on 7 at 92.86 uL/sec\n",
      "Blowing out\n",
      "Dropping tip into B2 of Opentrons 96 Tip Rack 300 µL on 10\n",
      "Picking up tip from B3 of Opentrons 96 Tip Rack 300 µL on 10\n",
      "Aspirating 55.0 uL from C5 of Corning 96 Well Plate 360 µL Flat on 8 at 92.86 uL/sec\n",
      "Aspirating 130.0 uL from E7 of Opentrons 96 Tip Rack 300 µL on 6 at 46.43 uL/sec\n",
      "Air gap\n",
      "\tAspirating 10.0 uL from E7 of Opentrons 96 Tip Rack 300 µL on 6 at 92.86 uL/sec\n",
      "Dispensing 195.0 uL into C4 of Corning 96 Well Plate 360 µL Flat on 4 at 92.86 uL/sec\n",
      "Blowing out at C4 of Corning 96 Well Plate 360 µL Flat on 4\n",
      "Mixing 1 times with a volume of 300.0 ul\n",
      "\tAspirating 300.0 uL from C5 of Corning 96 Well Plate 360 µL Flat on 7 at 92.86 uL/sec\n",
      "\tDispensing 300.0 uL into C5 of Corning 96 Well Plate 360 µL Flat on 7 at 92.86 uL/sec\n",
      "Blowing out\n",
      "Dropping tip into B3 of Opentrons 96 Tip Rack 300 µL on 10\n",
      "Picking up tip from C1 of Opentrons 96 Tip Rack 300 µL on 10\n",
      "Mixing 1 times with a volume of 300.0 ul\n",
      "\tAspirating 300.0 uL from C4 of Corning 96 Well Plate 360 µL Flat on 4 at 92.86 uL/sec\n",
      "\tDispensing 300.0 uL into C4 of Corning 96 Well Plate 360 µL Flat on 4 at 92.86 uL/sec\n",
      "Aspirating 300.0 uL from C4 of Corning 96 Well Plate 360 µL Flat on 4 at 92.86 uL/sec\n",
      "Dispensing 300.0 uL into C4 of Corning 96 Well Plate 360 µL Flat on 4 at 92.86 uL/sec\n",
      "Blowing out at C4 of Corning 96 Well Plate 360 µL Flat on 4\n",
      "Aspirating 90.0 uL from C4 of Corning 96 Well Plate 360 µL Flat on 4 at 92.86 uL/sec\n",
      "Air gap\n",
      "\tAspirating 5.0 uL from C4 of Corning 96 Well Plate 360 µL Flat on 4 at 92.86 uL/sec\n",
      "Dispensing 110.0 uL into C4 of Corning 96 Well Plate 360 µL Flat on 1 at 46.43 uL/sec\n",
      "Aspirating 50.0 uL from C4 of Corning 96 Well Plate 360 µL Flat on 1 at 46.43 uL/sec\n",
      "Dispensing 110.0 uL into C4 of Corning 96 Well Plate 360 µL Flat on 1 at 46.43 uL/sec\n",
      "Mixing 1 times with a volume of 300.0 ul\n",
      "\tAspirating 300.0 uL from C5 of Corning 96 Well Plate 360 µL Flat on 7 at 92.86 uL/sec\n",
      "\tDispensing 300.0 uL into C5 of Corning 96 Well Plate 360 µL Flat on 7 at 92.86 uL/sec\n",
      "Blowing out\n",
      "Dropping tip into C1 of Opentrons 96 Tip Rack 300 µL on 10\n",
      "\n"
     ]
    }
   ],
   "source": [
    "# Simulate the protocol first \n",
    "#Need to run the protocol in the directory of '/data/'\n",
    "cmd_to_execute = 'cd /data/\\n'+\\\n",
    "                 'pwd\\n'+\\\n",
    "                 'python -m opentrons.simulate /data/color_mixing.py'\n",
    "ssh_stdin, ssh_stdout, ssh_stderr = ssh.exec_command(cmd_to_execute)\n",
    "print(ssh_stdout.read().decode().strip())#print output messages\n",
    "print(ssh_stderr.read().decode().strip())#print error messages"
   ]
  },
  {
   "cell_type": "code",
   "execution_count": 5,
   "metadata": {},
   "outputs": [
    {
     "name": "stdout",
     "output_type": "stream",
     "text": [
      "\n"
     ]
    }
   ],
   "source": [
    "# Run the protocol after simulation\n",
    "# Need to run the protocol in the directory of '/data/'\n",
    "cmd_to_execute = 'cd /data/\\n'+\\\n",
    "                 'pwd\\n'+\\\n",
    "                 'python -m opentrons.execute /data/color_mixing.py'\n",
    "ssh_stdin, ssh_stdout, ssh_stderr = ssh.exec_command(cmd_to_execute)\n",
    "#print(ssh_stdout.read().decode().strip())#print output messages\n",
    "print(ssh_stderr.read().decode().strip())#print error messages"
   ]
  },
  {
   "cell_type": "code",
   "execution_count": 6,
   "metadata": {},
   "outputs": [
    {
     "name": "stdout",
     "output_type": "stream",
     "text": [
      "ffmpeg version 3.4.5 Copyright (c) 2000-2018 the FFmpeg developers\n",
      "  built with gcc 7.3.1 (Linaro GCC 7.3-2018.05) 20180425 [linaro-7.3-2018.05 revision d29120a424ecfbc167ef90065c0eeb7f91977701]\n",
      "  configuration: --enable-cross-compile --cross-prefix=/buildroot/output/host/bin/arm-linux-gnueabihf- --sysroot=/buildroot/output/host/arm-buildroot-linux-gnueabihf/sysroot --host-cc=/usr/bin/gcc --arch=arm --target-os=linux --disable-stripping --pkg-config=/buildroot/output/host/bin/pkg-config --disable-static --enable-shared --prefix=/usr --enable-avfilter --disable-version3 --enable-logging --enable-optimizations --disable-extra-warnings --enable-avdevice --enable-avcodec --enable-avformat --enable-network --disable-gray --enable-swscale-alpha --disable-small --enable-dct --enable-fft --enable-mdct --enable-rdft --disable-crystalhd --disable-dxva2 --enable-runtime-cpudetect --disable-hardcoded-tables --disable-mipsdsp --disable-mipsdspr2 --disable-msa --enable-hwaccels --disable-cuda --disable-cuvid --disable-nvenc --disable-avisynth --disable-frei0r --disable-libopencore-amrnb --disable-libopencore-amrwb --disable-libdc1394 --disable-libgsm --disable-libilbc --disable-libvo-amrwbenc --disable-symver --disable-doc --enable-gpl --enable-nonfree --enable-ffmpeg --disable-ffplay --disable-ffserver --disable-avresample --disable-ffprobe --disable-postproc --enable-swscale --enable-indevs --enable-alsa --enable-outdevs --enable-pthreads --enable-zlib --enable-bzlib --disable-libfdk-aac --disable-libcdio --enable-gnutls --disable-openssl --disable-libdrm --disable-libopenh264 --disable-vaapi --disable-vdpau --enable-mmal --enable-omx --enable-omx-rpi --extra-cflags=-I/buildroot/output/host/arm-buildroot-linux-gnueabihf/sysroot/usr/include/IL --disable-libopencv --disable-libopus --disable-libvpx --disable-libass --disable-libbluray --disable-librtmp --disable-libmp3lame --disable-libmodplug --disable-libspeex --disable-libtheora --disable-libwavpack --disable-iconv --disable-libfreetype --disable-fontconfig --disable-libopenjpeg --disable-libx264 --disable-libx265 --disable-x86asm --disable-mmx --disable-sse --disable-sse2 --disable-sse3 --disable-ssse3 --disable-sse4 --disable-sse42 --disable-avx --disable-avx2 --disable-armv6 --disable-armv6t2 --enable-vfp --enable-neon --disable-altivec --extra-libs=-latomic --enable-pic --cpu=cortex-a53\n",
      "  libavutil      55. 78.100 / 55. 78.100\n",
      "  libavcodec     57.107.100 / 57.107.100\n",
      "  libavformat    57. 83.100 / 57. 83.100\n",
      "  libavdevice    57. 10.100 / 57. 10.100\n",
      "  libavfilter     6.107.100 /  6.107.100\n",
      "  libswscale      4.  8.100 /  4.  8.100\n",
      "  libswresample   2.  9.100 /  2.  9.100\n",
      "Input #0, video4linux2,v4l2, from '/dev/video0':\n",
      "  Duration: N/A, start: 910.923385, bitrate: 147456 kb/s\n",
      "    Stream #0:0: Video: rawvideo (YUY2 / 0x32595559), yuyv422, 640x480, 147456 kb/s, 30 fps, 30 tbr, 1000k tbn, 1000k tbc\n",
      "Stream mapping:\n",
      "  Stream #0:0 -> #0:0 (rawvideo (native) -> mjpeg (native))\n",
      "Press [q] to stop, [?] for help\n",
      "[swscaler @ 0x1f06cf0] deprecated pixel format used, make sure you did set range correctly\n",
      "Output #0, image2, to '/data/user_storage/image%d.jpg':\n",
      "  Metadata:\n",
      "    encoder         : Lavf57.83.100\n",
      "    Stream #0:0: Video: mjpeg, yuvj422p(pc), 640x480, q=2-31, 200 kb/s, 30 fps, 30 tbn, 30 tbc\n",
      "    Metadata:\n",
      "      encoder         : Lavc57.107.100 mjpeg\n",
      "    Side data:\n",
      "      cpb: bitrate max/min/avg: 0/0/200000 buffer size: 0 vbv_delay: -1\n",
      "frame=    3 fps=0.0 q=2.0 Lsize=N/A time=00:00:00.10 bitrate=N/A dup=2 drop=1 speed=0.265x    \n",
      "video:135kB audio:0kB subtitle:0kB other streams:0kB global headers:0kB muxing overhead: unknown\n"
     ]
    }
   ],
   "source": [
    "from paramiko import SSHClient\n",
    "from scp import SCPClient\n",
    "ssh = SSHClient()\n",
    "ssh.load_system_host_keys()\n",
    "ssh.connect(OT2_IP, ##IP addresss of OT-2\n",
    "            username='root', \n",
    "            key_filename = r'C:\\Users\\SMART\\ot2_ssh_key')\n",
    "            ## the authentication file location\n",
    "image_name = 'image%d.jpg'\n",
    "cmd_to_execute = 'ffmpeg -y -f video4linux2 -s 640x480 -i /dev/video0 -vframes 3 /data/user_storage/'+image_name\n",
    "ssh_stdin, ssh_stdout, ssh_stderr = ssh.exec_command(cmd_to_execute)\n",
    "#print(ssh_stdout.read().decode().strip())#print output messages\n",
    "print(ssh_stderr.read().decode().strip())#print error messages\n",
    "\n",
    "image_saving_name = 'color_ref.jpg'\n",
    "remote_src = '/data/user_storage/image3.jpg'#file path at remote Pi\n",
    "local_des  = '.\\\\data\\\\'+image_saving_name #file path at local computer \n",
    "\n",
    "with SCPClient(ssh.get_transport()) as scp:\n",
    "    scp.get(remote_src, local_des)"
   ]
  },
  {
   "cell_type": "code",
   "execution_count": null,
   "metadata": {},
   "outputs": [],
   "source": []
  }
 ],
 "metadata": {
  "kernelspec": {
   "display_name": "Python 3",
   "language": "python",
   "name": "python3"
  },
  "language_info": {
   "codemirror_mode": {
    "name": "ipython",
    "version": 3
   },
   "file_extension": ".py",
   "mimetype": "text/x-python",
   "name": "python",
   "nbconvert_exporter": "python",
   "pygments_lexer": "ipython3",
   "version": "3.6.12"
  }
 },
 "nbformat": 4,
 "nbformat_minor": 4
}
